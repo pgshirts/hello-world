{
  "nbformat": 4,
  "nbformat_minor": 0,
  "metadata": {
    "colab": {
      "name": "HW3_problem2_PhilShirts.ipynb",
      "provenance": [],
      "authorship_tag": "ABX9TyOT3dqmFOHBS1m3XkERcpqm",
      "include_colab_link": true
    },
    "kernelspec": {
      "name": "python3",
      "display_name": "Python 3"
    },
    "language_info": {
      "name": "python"
    }
  },
  "cells": [
    {
      "cell_type": "markdown",
      "metadata": {
        "id": "view-in-github",
        "colab_type": "text"
      },
      "source": [
        "<a href=\"https://colab.research.google.com/github/pgshirts/hello-world/blob/master/HW3_problem2_PhilShirts.ipynb\" target=\"_parent\"><img src=\"https://colab.research.google.com/assets/colab-badge.svg\" alt=\"Open In Colab\"/></a>"
      ]
    },
    {
      "cell_type": "markdown",
      "metadata": {
        "id": "m7DbvDISjJD-"
      },
      "source": [
        "For an object detection problem, assume you are designing a YOLO like model to do the job. \n",
        "\n",
        "Your input image size is 127 x 127 (RGB). We are looking for a 8x8 output grid size. \n",
        "\n",
        "The number of classes is 20 and for each cell in the 8x8 grid, we are considering 2 anchors. \n",
        "\n",
        "Design the CNN network and as a designer feel free to set your networks hyperparameters as you wish. \n"
      ]
    },
    {
      "cell_type": "markdown",
      "metadata": {
        "id": "-WiSAySBWzjP"
      },
      "source": [
        "Preliminary Steps:    \n",
        "#Resize image to be 256x256, so 256/32 == 8, since wanting to use/reuse yolo vs2 as much as possible.   \n",
        "Example: https://auth0.com/blog/image-processing-in-python-with-pillow/\n",
        "Use something like this for importing 127x127 images and resizing them:\n",
        "# if needed: python3 -m pip install --upgrade pip   \n",
        "from PIL import Image   \n",
        "image = Image.open('demo_image.jpg')   \n",
        "new_image = image.resize((256, 256))   \n",
        "new_image.save('image_400.jpg')   \n"
      ]
    },
    {
      "cell_type": "markdown",
      "metadata": {
        "id": "T-6BdEBcYN9z"
      },
      "source": [
        "Define 20 class anchor data structure\n",
        "Modified example from: https://towardsdatascience.com/yolo2-walkthrough-with-examples-e40452ca265f\n",
        "2 anchors boxes, 20 classes per cell and 8x8 grid, so final output is: 8*8*2*(20+5))\n",
        "\n"
      ]
    }
  ]
}