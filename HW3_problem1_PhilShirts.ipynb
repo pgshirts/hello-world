{
  "nbformat": 4,
  "nbformat_minor": 0,
  "metadata": {
    "colab": {
      "name": "HW3_problem1_PhilShirts.ipynb",
      "provenance": [],
      "collapsed_sections": [],
      "authorship_tag": "ABX9TyM/0Z7ZKnDavTiui60k9So3",
      "include_colab_link": true
    },
    "kernelspec": {
      "name": "python3",
      "display_name": "Python 3"
    },
    "language_info": {
      "name": "python"
    }
  },
  "cells": [
    {
      "cell_type": "markdown",
      "metadata": {
        "id": "view-in-github",
        "colab_type": "text"
      },
      "source": [
        "<a href=\"https://colab.research.google.com/github/pgshirts/hello-world/blob/master/HW3_problem1_PhilShirts.ipynb\" target=\"_parent\"><img src=\"https://colab.research.google.com/assets/colab-badge.svg\" alt=\"Open In Colab\"/></a>"
      ]
    },
    {
      "cell_type": "code",
      "metadata": {
        "id": "eZWkdSc2xqA1"
      },
      "source": [
        "import tensorflow as tf\n",
        "import numpy as np\n",
        "#https://machinelearningmastery.com/generate-test-datasets-python-scikit-learn/\n",
        "from matplotlib import pyplot\n",
        "from sklearn.datasets import make_blobs \n",
        "from pandas import DataFrame\n",
        "#https://www.freecodecamp.org/news/how-to-build-your-first-neural-network-to-predict-house-prices-with-keras-f8db83049159/\n",
        "from sklearn import preprocessing\n",
        "from sklearn.model_selection import train_test_split\n",
        "from keras.models import Sequential\n",
        "from keras.layers import Dense\n",
        "from keras import regularizers\n",
        "import matplotlib.pyplot as plt"
      ],
      "execution_count": null,
      "outputs": []
    },
    {
      "cell_type": "markdown",
      "metadata": {
        "id": "8gjgapAIqKuL"
      },
      "source": [
        "Assume you receive real-estate data for 10 million samples as input and each sample has 25 different features/attributes.    \n",
        "\n",
        "Design a 3 layers fully connected network to predict the value of a house for sale (test section).      \n",
        "\n",
        "Assign 90 to 10 ratio for splitting train and test sets. Include at least one sort of regularization and apply 1000 iterations for your training step.  Besides these, as a designer, feel free to set the rest of your \n",
        "network hyperparameters as you wish."
      ]
    },
    {
      "cell_type": "code",
      "metadata": {
        "colab": {
          "base_uri": "https://localhost:8080/"
        },
        "id": "CcoT9QUzobcJ",
        "outputId": "f1acd80f-6564-498b-93c1-34c9f7a0a6e8"
      },
      "source": [
        "#Assume you receive real-estate data for 10 million samples as input and each sample has 25 different features/attributes. \n",
        "#Alex Dodd suggested using the make_blobs function in sklearn\n",
        "X,y = make_blobs(n_samples=100000, centers=1, n_features=25)\n",
        "print(X.shape)\n",
        "print(X[0])\n"
      ],
      "execution_count": null,
      "outputs": [
        {
          "output_type": "stream",
          "name": "stdout",
          "text": [
            "(100000, 25)\n",
            "[  8.26080649   5.9767656    4.73166801   6.86385398 -10.44298404\n",
            "   3.47550955   7.55905195   4.28137762   3.63165278  -3.39033417\n",
            "   6.18613487   1.07158913  10.6732935    7.31071021   9.56929908\n",
            "  -4.86987221  -1.01619692   7.58610333  -9.14901509   0.64664552\n",
            "  -4.73406891   3.37049411  -2.92397724  -2.39140331  -1.20216411]\n"
          ]
        }
      ]
    },
    {
      "cell_type": "code",
      "metadata": {
        "colab": {
          "base_uri": "https://localhost:8080/"
        },
        "id": "R0xNkZVzK4ev",
        "outputId": "10c67a93-e06f-47dc-f231-afaa76fc46ed"
      },
      "source": [
        "print(y.shape)"
      ],
      "execution_count": null,
      "outputs": [
        {
          "output_type": "stream",
          "name": "stdout",
          "text": [
            "(100000,)\n"
          ]
        }
      ]
    },
    {
      "cell_type": "code",
      "metadata": {
        "id": "VZKPAQHoJvhc"
      },
      "source": [
        "min_max_scaler = preprocessing.MinMaxScaler()\n",
        "X_scale = min_max_scaler.fit_transform(X)"
      ],
      "execution_count": null,
      "outputs": []
    },
    {
      "cell_type": "code",
      "metadata": {
        "id": "mMupxB5rKuii"
      },
      "source": [
        ""
      ],
      "execution_count": null,
      "outputs": []
    },
    {
      "cell_type": "code",
      "metadata": {
        "id": "-8qTmfwKHpR8"
      },
      "source": [
        "#Assign 90 to 10 ratio for splitting train and test sets. Include at least one sort of regularization and apply 1000 iterations for your training step. Besides these, as a designer, feel free to set the rest of your network hyperparameters as you wish.\n",
        "X_train, X_val_and_test, Y_train, Y_val_and_test = train_test_split(X_scale, y, test_size=0.1)"
      ],
      "execution_count": null,
      "outputs": []
    },
    {
      "cell_type": "code",
      "metadata": {
        "id": "IeImH2y-qnuD"
      },
      "source": [
        "#Design a 3 layers fully connected network to predict the value of a house for sale (test section).  \n",
        "model = Sequential([\n",
        "    Dense(32, activation='relu',kernel_regularizer=regularizers.l2(0.01), input_shape=(25,)), #because 25 features\n",
        "    Dense(32, activation='relu',kernel_regularizer=regularizers.l2(0.01)),\n",
        "    Dense(1, activation='sigmoid',kernel_regularizer=regularizers.l2(0.01)),\n",
        "])"
      ],
      "execution_count": null,
      "outputs": []
    },
    {
      "cell_type": "markdown",
      "metadata": {
        "id": "bbDTIqUeI6NK"
      },
      "source": [
        ""
      ]
    },
    {
      "cell_type": "code",
      "metadata": {
        "id": "X6VZN0SiHWHQ"
      },
      "source": [
        "model.compile(optimizer='sgd',\n",
        "              loss='binary_crossentropy',\n",
        "              metrics=['accuracy'])"
      ],
      "execution_count": null,
      "outputs": []
    },
    {
      "cell_type": "code",
      "metadata": {
        "colab": {
          "base_uri": "https://localhost:8080/"
        },
        "id": "n5jN97f3Hd47",
        "outputId": "0b482ad8-127b-4ea1-9108-763964ce2b3a"
      },
      "source": [
        "hist = model.fit(X_train, Y_train,\n",
        "          batch_size=32, epochs=10,\n",
        "          validation_data=(X_val_and_test, Y_val_and_test))#is this right for X and Y"
      ],
      "execution_count": null,
      "outputs": [
        {
          "output_type": "stream",
          "name": "stdout",
          "text": [
            "Epoch 1/10\n",
            "2813/2813 [==============================] - 5s 2ms/step - loss: nan - accuracy: 0.1996 - val_loss: nan - val_accuracy: 0.2040\n",
            "Epoch 2/10\n",
            "2813/2813 [==============================] - 4s 1ms/step - loss: nan - accuracy: 0.1996 - val_loss: nan - val_accuracy: 0.2040\n",
            "Epoch 3/10\n",
            "2813/2813 [==============================] - 4s 2ms/step - loss: nan - accuracy: 0.1996 - val_loss: nan - val_accuracy: 0.2040\n",
            "Epoch 4/10\n",
            "2813/2813 [==============================] - 4s 2ms/step - loss: nan - accuracy: 0.1996 - val_loss: nan - val_accuracy: 0.2040\n",
            "Epoch 5/10\n",
            "2813/2813 [==============================] - 4s 2ms/step - loss: nan - accuracy: 0.1996 - val_loss: nan - val_accuracy: 0.2040\n",
            "Epoch 6/10\n",
            "2813/2813 [==============================] - 4s 1ms/step - loss: nan - accuracy: 0.1996 - val_loss: nan - val_accuracy: 0.2040\n",
            "Epoch 7/10\n",
            "2813/2813 [==============================] - 4s 1ms/step - loss: nan - accuracy: 0.1996 - val_loss: nan - val_accuracy: 0.2040\n",
            "Epoch 8/10\n",
            "2813/2813 [==============================] - 4s 1ms/step - loss: nan - accuracy: 0.1996 - val_loss: nan - val_accuracy: 0.2040\n",
            "Epoch 9/10\n",
            "2813/2813 [==============================] - 4s 1ms/step - loss: nan - accuracy: 0.1996 - val_loss: nan - val_accuracy: 0.2040\n",
            "Epoch 10/10\n",
            "2813/2813 [==============================] - 4s 1ms/step - loss: nan - accuracy: 0.1996 - val_loss: nan - val_accuracy: 0.2040\n"
          ]
        }
      ]
    },
    {
      "cell_type": "markdown",
      "metadata": {
        "id": "FJTgezDv311E"
      },
      "source": [
        "\n"
      ]
    },
    {
      "cell_type": "code",
      "metadata": {
        "colab": {
          "base_uri": "https://localhost:8080/",
          "height": 235
        },
        "id": "S3JWcDDv39bg",
        "outputId": "f3d7d3f1-f69d-4e8d-fb56-888602aeee48"
      },
      "source": [
        "plt.plot(hist.history['loss'])\n",
        "plt.plot(hist.history['val_loss'])\n",
        "plt.title('Model loss')\n",
        "plt.ylabel('Loss')\n",
        "plt.xlabel('Epoch')\n",
        "plt.legend(['Train', 'Val'], loc='upper right')\n",
        "plt.show()"
      ],
      "execution_count": null,
      "outputs": [
        {
          "output_type": "error",
          "ename": "NameError",
          "evalue": "ignored",
          "traceback": [
            "\u001b[0;31m---------------------------------------------------------------------------\u001b[0m",
            "\u001b[0;31mNameError\u001b[0m                                 Traceback (most recent call last)",
            "\u001b[0;32m<ipython-input-1-19ec5ff6f171>\u001b[0m in \u001b[0;36m<module>\u001b[0;34m()\u001b[0m\n\u001b[0;32m----> 1\u001b[0;31m \u001b[0mplt\u001b[0m\u001b[0;34m.\u001b[0m\u001b[0mplot\u001b[0m\u001b[0;34m(\u001b[0m\u001b[0mhist\u001b[0m\u001b[0;34m.\u001b[0m\u001b[0mhistory\u001b[0m\u001b[0;34m[\u001b[0m\u001b[0;34m'loss'\u001b[0m\u001b[0;34m]\u001b[0m\u001b[0;34m)\u001b[0m\u001b[0;34m\u001b[0m\u001b[0;34m\u001b[0m\u001b[0m\n\u001b[0m\u001b[1;32m      2\u001b[0m \u001b[0mplt\u001b[0m\u001b[0;34m.\u001b[0m\u001b[0mplot\u001b[0m\u001b[0;34m(\u001b[0m\u001b[0mhist\u001b[0m\u001b[0;34m.\u001b[0m\u001b[0mhistory\u001b[0m\u001b[0;34m[\u001b[0m\u001b[0;34m'val_loss'\u001b[0m\u001b[0;34m]\u001b[0m\u001b[0;34m)\u001b[0m\u001b[0;34m\u001b[0m\u001b[0;34m\u001b[0m\u001b[0m\n\u001b[1;32m      3\u001b[0m \u001b[0mplt\u001b[0m\u001b[0;34m.\u001b[0m\u001b[0mtitle\u001b[0m\u001b[0;34m(\u001b[0m\u001b[0;34m'Model loss'\u001b[0m\u001b[0;34m)\u001b[0m\u001b[0;34m\u001b[0m\u001b[0;34m\u001b[0m\u001b[0m\n\u001b[1;32m      4\u001b[0m \u001b[0mplt\u001b[0m\u001b[0;34m.\u001b[0m\u001b[0mylabel\u001b[0m\u001b[0;34m(\u001b[0m\u001b[0;34m'Loss'\u001b[0m\u001b[0;34m)\u001b[0m\u001b[0;34m\u001b[0m\u001b[0;34m\u001b[0m\u001b[0m\n\u001b[1;32m      5\u001b[0m \u001b[0mplt\u001b[0m\u001b[0;34m.\u001b[0m\u001b[0mxlabel\u001b[0m\u001b[0;34m(\u001b[0m\u001b[0;34m'Epoch'\u001b[0m\u001b[0;34m)\u001b[0m\u001b[0;34m\u001b[0m\u001b[0;34m\u001b[0m\u001b[0m\n",
            "\u001b[0;31mNameError\u001b[0m: name 'plt' is not defined"
          ]
        }
      ]
    },
    {
      "cell_type": "code",
      "metadata": {
        "colab": {
          "base_uri": "https://localhost:8080/"
        },
        "id": "gWnfrTmxc0RM",
        "outputId": "0c20d528-bb9b-4e36-af18-182b0ca559d0"
      },
      "source": [
        "print(list(hist.history.keys()))"
      ],
      "execution_count": null,
      "outputs": [
        {
          "output_type": "stream",
          "name": "stdout",
          "text": [
            "['loss', 'accuracy', 'val_loss', 'val_accuracy']\n"
          ]
        }
      ]
    },
    {
      "cell_type": "code",
      "metadata": {
        "colab": {
          "base_uri": "https://localhost:8080/",
          "height": 295
        },
        "id": "r8GnfZT2IK81",
        "outputId": "a7b8a8a0-1994-4a6c-d40c-4a2b1b888873"
      },
      "source": [
        "plt.plot(hist.history['accuracy'])\n",
        "plt.plot(hist.history['val_accuracy'])\n",
        "plt.title('Model accuracy')\n",
        "plt.ylabel('Accuracy')\n",
        "plt.xlabel('Epoch')\n",
        "plt.legend(['Train', 'Val'], loc='lower right')\n",
        "plt.show()"
      ],
      "execution_count": null,
      "outputs": [
        {
          "output_type": "display_data",
          "data": {
            "image/png": "[encoded data removed]",
            "text/plain": [
              "<Figure size 432x288 with 1 Axes>"
            ]
          },
          "metadata": {
            "needs_background": "light"
          }
        }
      ]
    }
  ]
}